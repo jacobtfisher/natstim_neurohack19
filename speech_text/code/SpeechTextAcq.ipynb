{
 "cells": [
  {
   "cell_type": "markdown",
   "metadata": {},
   "source": [
    "# Speech Text Acq"
   ]
  },
  {
   "cell_type": "code",
   "execution_count": 3,
   "metadata": {},
   "outputs": [],
   "source": [
    "from pliers.tests.utils import get_test_data_path\n",
    "from os import path\n",
    "from os.path import join\n",
    "from pliers.stimuli import AudioStim\n",
    "from pliers.graph import Graph\n",
    "import re\n",
    "import numpy as np\n",
    "import pandas as pd"
   ]
  },
  {
   "cell_type": "code",
   "execution_count": 4,
   "metadata": {},
   "outputs": [
    {
     "name": "stdout",
     "output_type": "stream",
     "text": [
      "env: GOOGLE_APPLICATION_CREDENTIALS=/Users/mdclark/Desktop/google_api.json\n"
     ]
    }
   ],
   "source": [
    "%env GOOGLE_APPLICATION_CREDENTIALS = /Users/mdclark/Desktop/google_api.json"
   ]
  },
  {
   "cell_type": "code",
   "execution_count": 14,
   "metadata": {},
   "outputs": [],
   "source": [
    "data_path = '../data'\n",
    "data_file = 'fg_av_eng_seg0'\n",
    "max_len = 60000"
   ]
  },
  {
   "cell_type": "code",
   "execution_count": 15,
   "metadata": {},
   "outputs": [],
   "source": [
    "from pydub import AudioSegment\n",
    "\n",
    "sound = AudioSegment.from_mp3(join(audio_path, audio_file+\".mp3\"))\n",
    "\n",
    "num_cuts = np.int(np.ceil(len(sound) / max_len))\n"
   ]
  },
  {
   "cell_type": "code",
   "execution_count": 16,
   "metadata": {},
   "outputs": [],
   "source": [
    "# Configure our stimulus and extraction graph\n",
    "nodes = [\n",
    "    {\n",
    "        'transformer':'GoogleSpeechAPIConverter', \n",
    "        'children':[\n",
    "            {\n",
    "                'transformer':'NumUniqueWordsExtractor'\n",
    "            }\n",
    "        ]\n",
    "    }\n",
    "]\n",
    "graph = Graph(nodes)"
   ]
  },
  {
   "cell_type": "code",
   "execution_count": null,
   "metadata": {},
   "outputs": [
    {
     "name": "stdout",
     "output_type": "stream",
     "text": [
      "[MoviePy] Writing audio in /var/folders/6p/tv36fwsx7jg4yn6k8x81qv980000gn/T/tmp3n_fw48a.flac\n"
     ]
    },
    {
     "name": "stderr",
     "output_type": "stream",
     "text": [
      "100%|██████████| 1324/1324 [00:00<00:00, 3723.94it/s]"
     ]
    },
    {
     "name": "stdout",
     "output_type": "stream",
     "text": [
      "[MoviePy] Done.\n"
     ]
    },
    {
     "name": "stderr",
     "output_type": "stream",
     "text": [
      "\n",
      "Stim: 0it [00:00, ?it/s]\n"
     ]
    },
    {
     "name": "stdout",
     "output_type": "stream",
     "text": [
      "[MoviePy] Writing audio in /var/folders/6p/tv36fwsx7jg4yn6k8x81qv980000gn/T/tmp20rvzexs.flac\n"
     ]
    },
    {
     "name": "stderr",
     "output_type": "stream",
     "text": [
      "100%|██████████| 1324/1324 [00:00<00:00, 3846.54it/s]"
     ]
    },
    {
     "name": "stdout",
     "output_type": "stream",
     "text": [
      "[MoviePy] Done.\n"
     ]
    },
    {
     "name": "stderr",
     "output_type": "stream",
     "text": [
      "\n",
      "Stim: 0it [00:00, ?it/s]\n"
     ]
    },
    {
     "name": "stdout",
     "output_type": "stream",
     "text": [
      "[MoviePy] Writing audio in /var/folders/6p/tv36fwsx7jg4yn6k8x81qv980000gn/T/tmp61zrwke5.flac\n"
     ]
    },
    {
     "name": "stderr",
     "output_type": "stream",
     "text": [
      "100%|██████████| 1324/1324 [00:00<00:00, 3983.69it/s]"
     ]
    },
    {
     "name": "stdout",
     "output_type": "stream",
     "text": [
      "[MoviePy] Done.\n"
     ]
    },
    {
     "name": "stderr",
     "output_type": "stream",
     "text": [
      "\n",
      "Stim: 70it [00:00, 3550.07it/s]\n"
     ]
    },
    {
     "name": "stdout",
     "output_type": "stream",
     "text": [
      "[MoviePy] Writing audio in /var/folders/6p/tv36fwsx7jg4yn6k8x81qv980000gn/T/tmpgs4ndux_.flac\n"
     ]
    },
    {
     "name": "stderr",
     "output_type": "stream",
     "text": [
      "100%|██████████| 1324/1324 [00:00<00:00, 4475.83it/s]"
     ]
    },
    {
     "name": "stdout",
     "output_type": "stream",
     "text": [
      "[MoviePy] Done.\n"
     ]
    },
    {
     "name": "stderr",
     "output_type": "stream",
     "text": [
      "\n",
      "Stim: 69it [00:00, 4175.18it/s]\n"
     ]
    },
    {
     "name": "stdout",
     "output_type": "stream",
     "text": [
      "[MoviePy] Writing audio in /var/folders/6p/tv36fwsx7jg4yn6k8x81qv980000gn/T/tmppes92ze8.flac\n"
     ]
    },
    {
     "name": "stderr",
     "output_type": "stream",
     "text": [
      "100%|██████████| 1324/1324 [00:00<00:00, 4172.96it/s]"
     ]
    },
    {
     "name": "stdout",
     "output_type": "stream",
     "text": [
      "[MoviePy] Done.\n"
     ]
    },
    {
     "name": "stderr",
     "output_type": "stream",
     "text": [
      "\n",
      "Stim: 114it [00:00, 7769.25it/s]\n"
     ]
    },
    {
     "name": "stdout",
     "output_type": "stream",
     "text": [
      "[MoviePy] Writing audio in /var/folders/6p/tv36fwsx7jg4yn6k8x81qv980000gn/T/tmpdtnpyzlj.flac\n"
     ]
    },
    {
     "name": "stderr",
     "output_type": "stream",
     "text": [
      "100%|██████████| 1324/1324 [00:00<00:00, 4116.65it/s]"
     ]
    },
    {
     "name": "stdout",
     "output_type": "stream",
     "text": [
      "[MoviePy] Done.\n"
     ]
    },
    {
     "name": "stderr",
     "output_type": "stream",
     "text": [
      "\n",
      "Stim: 136it [00:00, 5955.77it/s]\n"
     ]
    },
    {
     "name": "stdout",
     "output_type": "stream",
     "text": [
      "[MoviePy] Writing audio in /var/folders/6p/tv36fwsx7jg4yn6k8x81qv980000gn/T/tmpf89odoky.flac\n"
     ]
    },
    {
     "name": "stderr",
     "output_type": "stream",
     "text": [
      "100%|██████████| 1324/1324 [00:00<00:00, 3961.18it/s]"
     ]
    },
    {
     "name": "stdout",
     "output_type": "stream",
     "text": [
      "[MoviePy] Done.\n"
     ]
    },
    {
     "name": "stderr",
     "output_type": "stream",
     "text": [
      "\n",
      "Stim: 99it [00:00, 5235.67it/s]\n"
     ]
    },
    {
     "name": "stdout",
     "output_type": "stream",
     "text": [
      "[MoviePy] Writing audio in /var/folders/6p/tv36fwsx7jg4yn6k8x81qv980000gn/T/tmp2081eznz.flac\n"
     ]
    },
    {
     "name": "stderr",
     "output_type": "stream",
     "text": [
      "100%|██████████| 1324/1324 [00:00<00:00, 4078.61it/s]"
     ]
    },
    {
     "name": "stdout",
     "output_type": "stream",
     "text": [
      "[MoviePy] Done.\n"
     ]
    },
    {
     "name": "stderr",
     "output_type": "stream",
     "text": [
      "\n",
      "Stim: 80it [00:00, 5467.12it/s]\n"
     ]
    },
    {
     "name": "stdout",
     "output_type": "stream",
     "text": [
      "[MoviePy] Writing audio in /var/folders/6p/tv36fwsx7jg4yn6k8x81qv980000gn/T/tmpie_lrg5l.flac\n"
     ]
    },
    {
     "name": "stderr",
     "output_type": "stream",
     "text": [
      "100%|██████████| 1324/1324 [00:00<00:00, 3912.60it/s]"
     ]
    },
    {
     "name": "stdout",
     "output_type": "stream",
     "text": [
      "[MoviePy] Done.\n"
     ]
    },
    {
     "name": "stderr",
     "output_type": "stream",
     "text": [
      "\n",
      "Stim: 64it [00:00, 2703.36it/s]\n"
     ]
    },
    {
     "name": "stdout",
     "output_type": "stream",
     "text": [
      "[MoviePy] Writing audio in /var/folders/6p/tv36fwsx7jg4yn6k8x81qv980000gn/T/tmp_aujjt4c.flac\n"
     ]
    },
    {
     "name": "stderr",
     "output_type": "stream",
     "text": [
      "100%|██████████| 1324/1324 [00:00<00:00, 3763.30it/s]"
     ]
    },
    {
     "name": "stdout",
     "output_type": "stream",
     "text": [
      "[MoviePy] Done.\n"
     ]
    },
    {
     "name": "stderr",
     "output_type": "stream",
     "text": [
      "\n",
      "Stim: 81it [00:00, 5073.91it/s]\n"
     ]
    },
    {
     "name": "stdout",
     "output_type": "stream",
     "text": [
      "[MoviePy] Writing audio in /var/folders/6p/tv36fwsx7jg4yn6k8x81qv980000gn/T/tmpg7b6zqk4.flac\n"
     ]
    },
    {
     "name": "stderr",
     "output_type": "stream",
     "text": [
      "100%|██████████| 1324/1324 [00:00<00:00, 3575.42it/s]"
     ]
    },
    {
     "name": "stdout",
     "output_type": "stream",
     "text": [
      "[MoviePy] Done.\n"
     ]
    },
    {
     "name": "stderr",
     "output_type": "stream",
     "text": [
      "\n",
      "Stim: 71it [00:00, 5080.45it/s]\n"
     ]
    },
    {
     "name": "stdout",
     "output_type": "stream",
     "text": [
      "[MoviePy] Writing audio in /var/folders/6p/tv36fwsx7jg4yn6k8x81qv980000gn/T/tmpe8q8lh2u.flac\n"
     ]
    },
    {
     "name": "stderr",
     "output_type": "stream",
     "text": [
      "100%|██████████| 1324/1324 [00:00<00:00, 3903.39it/s]"
     ]
    },
    {
     "name": "stdout",
     "output_type": "stream",
     "text": [
      "[MoviePy] Done.\n"
     ]
    },
    {
     "name": "stderr",
     "output_type": "stream",
     "text": [
      "\n"
     ]
    }
   ],
   "source": [
    "\n",
    "results = pd.DataFrame()\n",
    "\n",
    "for i in range(num_cuts): \n",
    "    \n",
    "    #Segment and export the data\n",
    "    seg = sound[i*max_len : (i+1)*max_len-1]\n",
    "    seg.export(join(data_path, \"%s_%i.wav\" %(data_file,i)), format='wav')\n",
    "    \n",
    "    #Import and run through the graph\n",
    "    stim = join(data_path, \"%s_%i.wav\" %(data_file,i))\n",
    "    temp_results = graph.run(stim)\n",
    "    \n",
    "    #Recalculate Onset\n",
    "    if len(temp_results) > 0: \n",
    "        temp_results['onset'] = temp_results['onset'] + 60 * i\n",
    "        results = results.append(temp_results)"
   ]
  },
  {
   "cell_type": "code",
   "execution_count": null,
   "metadata": {},
   "outputs": [],
   "source": [
    "results.to_csv(join(data_path, data_file + '.csv'))"
   ]
  },
  {
   "cell_type": "code",
   "execution_count": null,
   "metadata": {},
   "outputs": [],
   "source": []
  }
 ],
 "metadata": {
  "kernelspec": {
   "display_name": "Python 3",
   "language": "python",
   "name": "python3"
  },
  "language_info": {
   "codemirror_mode": {
    "name": "ipython",
    "version": 3
   },
   "file_extension": ".py",
   "mimetype": "text/x-python",
   "name": "python",
   "nbconvert_exporter": "python",
   "pygments_lexer": "ipython3",
   "version": "3.6.5"
  }
 },
 "nbformat": 4,
 "nbformat_minor": 2
}
