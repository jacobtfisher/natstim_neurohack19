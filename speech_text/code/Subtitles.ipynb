{
 "cells": [
  {
   "cell_type": "code",
   "execution_count": 1,
   "metadata": {},
   "outputs": [],
   "source": [
    "import pandas as pd\n",
    "import numpy as np\n",
    "import datetime\n",
    "from os.path import join"
   ]
  },
  {
   "cell_type": "code",
   "execution_count": 2,
   "metadata": {},
   "outputs": [],
   "source": [
    "def convert_timestamp(seconds):\n",
    "    ms = int((seconds - np.floor(seconds)) * 1000)\n",
    "    seconds = int(np.floor(seconds))\n",
    "\n",
    "    m, s = divmod(seconds, 60)\n",
    "    h, m = divmod(m, 60)\n",
    "    \n",
    "    return '{:02d}:{:02d}:{:02d},{:03d}'.format(h, m, s,ms)"
   ]
  },
  {
   "cell_type": "code",
   "execution_count": 4,
   "metadata": {},
   "outputs": [],
   "source": [
    "csv_path = '../data'\n",
    "subtitle_path = '../data'\n",
    "csv_name = 'test_clip'\n",
    "\n",
    "\n",
    "ts = pd.read_csv(join(csv_path,csv_name+'.csv'))"
   ]
  },
  {
   "cell_type": "code",
   "execution_count": 5,
   "metadata": {},
   "outputs": [],
   "source": [
    "ts['stim_name'] = ts['stim_name'].apply(lambda x: x.replace('text[','').strip(']'))"
   ]
  },
  {
   "cell_type": "code",
   "execution_count": 6,
   "metadata": {},
   "outputs": [],
   "source": [
    "ts['offset'] = ts['onset'] + ts['duration']\n",
    "ts['onset_srt'] = ts['onset'].apply(convert_timestamp)\n",
    "ts['offset_srt'] = ts['offset'].apply(convert_timestamp)"
   ]
  },
  {
   "cell_type": "code",
   "execution_count": 7,
   "metadata": {},
   "outputs": [],
   "source": [
    "ts['srt_ts'] = ts['onset_srt'] + ' --> '  + ts['offset_srt']"
   ]
  },
  {
   "cell_type": "code",
   "execution_count": 8,
   "metadata": {},
   "outputs": [],
   "source": [
    "text_file = open(join(subtitle_path,csv_name+'.srt'), \"w\")\n",
    "\n",
    "for index, row in ts.iterrows():\n",
    "    text_file.write(str(index+1)+\"\\n\")\n",
    "    text_file.write(str(row['srt_ts'])+\"\\n\")\n",
    "    text_file.write(row['stim_name']+\"\\n\")\n",
    "    text_file.write(\"\\n\")\n",
    "    \n",
    "text_file.close()\n"
   ]
  },
  {
   "cell_type": "code",
   "execution_count": 11,
   "metadata": {
    "collapsed": true
   },
   "outputs": [
    {
     "name": "stdout",
     "output_type": "stream",
     "text": [
      "ffmpeg -i ../data/test_clip.mov -i ../data/test_clip.srt -c copy -c:s mov_text ../data/test_clip_captioned.mov\n"
     ]
    }
   ],
   "source": [
    "command_string = \"ffmpeg -i %s.mov -i %s.srt -c copy -c:s mov_text %s_captioned.mov\" % \\\n",
    "                (join(csv_path,csv_name),join(csv_path,csv_name),join(csv_path,csv_name))\n",
    "\n",
    "print(command_string)"
   ]
  }
 ],
 "metadata": {
  "kernelspec": {
   "display_name": "Python 3",
   "language": "python",
   "name": "python3"
  },
  "language_info": {
   "codemirror_mode": {
    "name": "ipython",
    "version": 3
   },
   "file_extension": ".py",
   "mimetype": "text/x-python",
   "name": "python",
   "nbconvert_exporter": "python",
   "pygments_lexer": "ipython3",
   "version": "3.6.5"
  }
 },
 "nbformat": 4,
 "nbformat_minor": 2
}
