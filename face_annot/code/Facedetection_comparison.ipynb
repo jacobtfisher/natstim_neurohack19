{
 "cells": [
  {
   "cell_type": "markdown",
   "metadata": {},
   "source": [
    "## Compare detected face locations in different pliers face detection methods\n",
    "\n",
    "\n",
    "### Tools that detect faces:\n",
    "\n",
    "* Google Cloud Vision API\n",
    "* Clarifai\n",
    "* pliers itself\n",
    "\n",
    "\n",
    "### Common measures\n",
    "* boundaries of faces\n",
    "\n",
    "\n",
    "### Ways to assess similarity\n",
    "* Eucledian distance between coordinates?"
   ]
  },
  {
   "cell_type": "code",
   "execution_count": 2,
   "metadata": {},
   "outputs": [
    {
     "name": "stderr",
     "output_type": "stream",
     "text": [
      "WARNING: Logging before flag parsing goes to stderr.\n",
      "W0807 22:06:16.305805 140628204459840 warnings.py:110] /home/adina/env/neurohackademy/lib/python3.7/site-packages/tensorboard/compat/tensorflow_stub/dtypes.py:541: FutureWarning: Passing (type, 1) or '1type' as a synonym of type is deprecated; in a future version of numpy, it will be understood as (type, (1,)) / '(1,)type'.\n",
      "  _np_qint8 = np.dtype([(\"qint8\", np.int8, 1)])\n",
      "\n",
      "W0807 22:06:16.306848 140628204459840 warnings.py:110] /home/adina/env/neurohackademy/lib/python3.7/site-packages/tensorboard/compat/tensorflow_stub/dtypes.py:542: FutureWarning: Passing (type, 1) or '1type' as a synonym of type is deprecated; in a future version of numpy, it will be understood as (type, (1,)) / '(1,)type'.\n",
      "  _np_quint8 = np.dtype([(\"quint8\", np.uint8, 1)])\n",
      "\n",
      "W0807 22:06:16.307273 140628204459840 warnings.py:110] /home/adina/env/neurohackademy/lib/python3.7/site-packages/tensorboard/compat/tensorflow_stub/dtypes.py:543: FutureWarning: Passing (type, 1) or '1type' as a synonym of type is deprecated; in a future version of numpy, it will be understood as (type, (1,)) / '(1,)type'.\n",
      "  _np_qint16 = np.dtype([(\"qint16\", np.int16, 1)])\n",
      "\n",
      "W0807 22:06:16.307688 140628204459840 warnings.py:110] /home/adina/env/neurohackademy/lib/python3.7/site-packages/tensorboard/compat/tensorflow_stub/dtypes.py:544: FutureWarning: Passing (type, 1) or '1type' as a synonym of type is deprecated; in a future version of numpy, it will be understood as (type, (1,)) / '(1,)type'.\n",
      "  _np_quint16 = np.dtype([(\"quint16\", np.uint16, 1)])\n",
      "\n",
      "W0807 22:06:16.308144 140628204459840 warnings.py:110] /home/adina/env/neurohackademy/lib/python3.7/site-packages/tensorboard/compat/tensorflow_stub/dtypes.py:545: FutureWarning: Passing (type, 1) or '1type' as a synonym of type is deprecated; in a future version of numpy, it will be understood as (type, (1,)) / '(1,)type'.\n",
      "  _np_qint32 = np.dtype([(\"qint32\", np.int32, 1)])\n",
      "\n",
      "W0807 22:06:16.308564 140628204459840 warnings.py:110] /home/adina/env/neurohackademy/lib/python3.7/site-packages/tensorboard/compat/tensorflow_stub/dtypes.py:550: FutureWarning: Passing (type, 1) or '1type' as a synonym of type is deprecated; in a future version of numpy, it will be understood as (type, (1,)) / '(1,)type'.\n",
      "  np_resource = np.dtype([(\"resource\", np.ubyte, 1)])\n",
      "\n"
     ]
    }
   ],
   "source": [
    "import numpy as np\n",
    "from os.path import join as opj\n",
    "from pliers.extractors import (ClarifaiAPIImageExtractor,\n",
    "                               FaceRecognitionFaceLocationsExtractor, \n",
    "                               GoogleVisionAPIFaceExtractor)\n",
    "from pliers.stimuli import ImageStim"
   ]
  },
  {
   "cell_type": "code",
   "execution_count": 3,
   "metadata": {},
   "outputs": [],
   "source": [
    "# awful hardcoded path to a test image\n",
    "stim = ImageStim(opj('../', 'data', 'obama.jpg'))\n"
   ]
  },
  {
   "cell_type": "code",
   "execution_count": 14,
   "metadata": {},
   "outputs": [
    {
     "name": "stdout",
     "output_type": "stream",
     "text": [
      "the picture is 444 pixel x 600 pixel in size\n"
     ]
    }
   ],
   "source": [
    "# the results of the face detection are given relative to stimulus size. Let's get the image dimensions in pixel\n",
    "y, x = stim.data.shape[:2]\n",
    "print(f'the picture is {x} pixel x {y} pixel in size')"
   ]
  },
  {
   "cell_type": "markdown",
   "metadata": {},
   "source": [
    "### pliers face detection"
   ]
  },
  {
   "cell_type": "code",
   "execution_count": 53,
   "metadata": {},
   "outputs": [
    {
     "name": "stdout",
     "output_type": "stream",
     "text": [
      "142 349 409 82\n"
     ]
    }
   ],
   "source": [
    "ext_pliers = FaceRecognitionFaceLocationsExtractor()\n",
    "result_pliers = ext_pliers.transform(stim).to_df()\n",
    "top, right, bottom, left = result_pliers['face_locations'][0]\n",
    "print(top, right, bottom, left)"
   ]
  },
  {
   "cell_type": "code",
   "execution_count": 64,
   "metadata": {},
   "outputs": [
    {
     "name": "stdout",
     "output_type": "stream",
     "text": [
      "458 95 191 362\n"
     ]
    }
   ],
   "source": [
    "# transform css coordinates into pixel\n",
    "top_row = y - top\n",
    "bottom_row = y - bottom\n",
    "left_col = x - left\n",
    "right_col = x - right\n",
    "print(top_row, right_col, bottom_row, left_col)\n"
   ]
  },
  {
   "cell_type": "markdown",
   "metadata": {},
   "source": [
    "### clarifai face detection"
   ]
  },
  {
   "cell_type": "code",
   "execution_count": 22,
   "metadata": {},
   "outputs": [
    {
     "name": "stdout",
     "output_type": "stream",
     "text": [
      "   order  duration  onset  object_id   top_row  left_col  bottom_row  right_col\n",
      "0    NaN       NaN    NaN          0  0.118024  0.220802    0.717073   0.788294\n"
     ]
    }
   ],
   "source": [
    "# the clarifai extraction needs a model and an api key\n",
    "model='face' \n",
    "ext_clarifai = ClarifaiAPIImageExtractor(api_key='d53d5755b7514b87877df990f2d0bbd4',\n",
    "                                         model=model)\n",
    "result_clarifai = ext_clarifai.transform(stim).to_df()\n"
   ]
  },
  {
   "cell_type": "code",
   "execution_count": 23,
   "metadata": {},
   "outputs": [
    {
     "name": "stdout",
     "output_type": "stream",
     "text": [
      "   order  duration  onset  object_id   top_row  left_col  bottom_row  right_col\n",
      "0    NaN       NaN    NaN          0  0.118024  0.220802    0.717073   0.788294\n"
     ]
    }
   ],
   "source": [
    "print(result_clarifai)"
   ]
  },
  {
   "cell_type": "code",
   "execution_count": 68,
   "metadata": {},
   "outputs": [
    {
     "name": "stdout",
     "output_type": "stream",
     "text": [
      "529.1857168078423 93.99742984771729 169.75643634796143 345.9639807343483\n"
     ]
    }
   ],
   "source": [
    "# transform relative coordinates into pixel\n",
    "top_row = y - y * result_clarifai['top_row'][0]\n",
    "bottom_row = y - y * result_clarifai['bottom_row'][0]\n",
    "left_col = x - x * result_clarifai['left_col'][0]\n",
    "right_col = x - x * result_clarifai['right_col'][0]\n",
    "print(top_row, right_col, bottom_row, left_col)"
   ]
  },
  {
   "cell_type": "markdown",
   "metadata": {},
   "source": [
    "### Google Cloud vision API face detection"
   ]
  },
  {
   "cell_type": "code",
   "execution_count": 18,
   "metadata": {},
   "outputs": [
    {
     "name": "stderr",
     "output_type": "stream",
     "text": [
      "W0807 21:04:58.198044 140090669545280 __init__.py:44] file_cache is unavailable when using oauth2client >= 4.0.0 or google-auth\n",
      "Traceback (most recent call last):\n",
      "  File \"/home/adina/env/neurohackademy/lib/python3.7/site-packages/googleapiclient/discovery_cache/__init__.py\", line 36, in autodetect\n",
      "    from google.appengine.api import memcache\n",
      "ModuleNotFoundError: No module named 'google.appengine'\n",
      "\n",
      "During handling of the above exception, another exception occurred:\n",
      "\n",
      "Traceback (most recent call last):\n",
      "  File \"/home/adina/env/neurohackademy/lib/python3.7/site-packages/googleapiclient/discovery_cache/file_cache.py\", line 33, in <module>\n",
      "    from oauth2client.contrib.locked_file import LockedFile\n",
      "ModuleNotFoundError: No module named 'oauth2client.contrib.locked_file'\n",
      "\n",
      "During handling of the above exception, another exception occurred:\n",
      "\n",
      "Traceback (most recent call last):\n",
      "  File \"/home/adina/env/neurohackademy/lib/python3.7/site-packages/googleapiclient/discovery_cache/file_cache.py\", line 37, in <module>\n",
      "    from oauth2client.locked_file import LockedFile\n",
      "ModuleNotFoundError: No module named 'oauth2client.locked_file'\n",
      "\n",
      "During handling of the above exception, another exception occurred:\n",
      "\n",
      "Traceback (most recent call last):\n",
      "  File \"/home/adina/env/neurohackademy/lib/python3.7/site-packages/googleapiclient/discovery_cache/__init__.py\", line 41, in autodetect\n",
      "    from . import file_cache\n",
      "  File \"/home/adina/env/neurohackademy/lib/python3.7/site-packages/googleapiclient/discovery_cache/file_cache.py\", line 41, in <module>\n",
      "    'file_cache is unavailable when using oauth2client >= 4.0.0 or google-auth')\n",
      "ImportError: file_cache is unavailable when using oauth2client >= 4.0.0 or google-auth\n"
     ]
    }
   ],
   "source": [
    "ext_google = GoogleVisionAPIFaceExtractor(discovery_file='/home/adina/NeuroHackademy-02c15db15c2a.json')\n",
    "result_google = ext_google.transform(stim).to_df()"
   ]
  },
  {
   "cell_type": "code",
   "execution_count": 19,
   "metadata": {},
   "outputs": [
    {
     "data": {
      "text/html": [
       "<div>\n",
       "<style scoped>\n",
       "    .dataframe tbody tr th:only-of-type {\n",
       "        vertical-align: middle;\n",
       "    }\n",
       "\n",
       "    .dataframe tbody tr th {\n",
       "        vertical-align: top;\n",
       "    }\n",
       "\n",
       "    .dataframe thead th {\n",
       "        text-align: right;\n",
       "    }\n",
       "</style>\n",
       "<table border=\"1\" class=\"dataframe\">\n",
       "  <thead>\n",
       "    <tr style=\"text-align: right;\">\n",
       "      <th></th>\n",
       "      <th>order</th>\n",
       "      <th>duration</th>\n",
       "      <th>onset</th>\n",
       "      <th>object_id</th>\n",
       "      <th>boundingPoly_vertex1_x</th>\n",
       "      <th>boundingPoly_vertex1_y</th>\n",
       "      <th>boundingPoly_vertex2_x</th>\n",
       "      <th>boundingPoly_vertex2_y</th>\n",
       "      <th>boundingPoly_vertex3_x</th>\n",
       "      <th>boundingPoly_vertex3_y</th>\n",
       "      <th>...</th>\n",
       "      <th>tiltAngle</th>\n",
       "      <th>face_detectionConfidence</th>\n",
       "      <th>face_landmarkingConfidence</th>\n",
       "      <th>joyLikelihood</th>\n",
       "      <th>sorrowLikelihood</th>\n",
       "      <th>angerLikelihood</th>\n",
       "      <th>surpriseLikelihood</th>\n",
       "      <th>underExposedLikelihood</th>\n",
       "      <th>blurredLikelihood</th>\n",
       "      <th>headwearLikelihood</th>\n",
       "    </tr>\n",
       "  </thead>\n",
       "  <tbody>\n",
       "    <tr>\n",
       "      <th>0</th>\n",
       "      <td>NaN</td>\n",
       "      <td>NaN</td>\n",
       "      <td>NaN</td>\n",
       "      <td>0</td>\n",
       "      <td>34</td>\n",
       "      <td>3</td>\n",
       "      <td>413</td>\n",
       "      <td>3</td>\n",
       "      <td>413</td>\n",
       "      <td>444</td>\n",
       "      <td>...</td>\n",
       "      <td>-2.058331</td>\n",
       "      <td>0.999946</td>\n",
       "      <td>0.84057</td>\n",
       "      <td>VERY_LIKELY</td>\n",
       "      <td>VERY_UNLIKELY</td>\n",
       "      <td>VERY_UNLIKELY</td>\n",
       "      <td>VERY_UNLIKELY</td>\n",
       "      <td>VERY_UNLIKELY</td>\n",
       "      <td>VERY_UNLIKELY</td>\n",
       "      <td>VERY_UNLIKELY</td>\n",
       "    </tr>\n",
       "  </tbody>\n",
       "</table>\n",
       "<p>1 rows × 134 columns</p>\n",
       "</div>"
      ],
      "text/plain": [
       "   order  duration  onset  object_id  boundingPoly_vertex1_x  \\\n",
       "0    NaN       NaN    NaN          0                      34   \n",
       "\n",
       "   boundingPoly_vertex1_y  boundingPoly_vertex2_x  boundingPoly_vertex2_y  \\\n",
       "0                       3                     413                       3   \n",
       "\n",
       "   boundingPoly_vertex3_x  boundingPoly_vertex3_y  ...  tiltAngle  \\\n",
       "0                     413                     444  ...  -2.058331   \n",
       "\n",
       "   face_detectionConfidence  face_landmarkingConfidence  joyLikelihood  \\\n",
       "0                  0.999946                     0.84057    VERY_LIKELY   \n",
       "\n",
       "   sorrowLikelihood  angerLikelihood  surpriseLikelihood  \\\n",
       "0     VERY_UNLIKELY    VERY_UNLIKELY       VERY_UNLIKELY   \n",
       "\n",
       "   underExposedLikelihood  blurredLikelihood  headwearLikelihood  \n",
       "0           VERY_UNLIKELY      VERY_UNLIKELY       VERY_UNLIKELY  \n",
       "\n",
       "[1 rows x 134 columns]"
      ]
     },
     "execution_count": 19,
     "metadata": {},
     "output_type": "execute_result"
    }
   ],
   "source": [
    "result_google"
   ]
  },
  {
   "cell_type": "code",
   "execution_count": 23,
   "metadata": {},
   "outputs": [],
   "source": [
    "result_google.to_dict(orient='records')\n",
    "# vertex coordinates are in the same scale as the original image.\n",
    "# vertices are in order top-left, top-right, bottom-right, bottom-left.\n",
    "top_left = result_google['boundingPoly_vertex1_x']\n",
    "top_right = result_google['boundingPoly_vertex2_x']\n",
    "bottom_right = result_google['boundingPoly_vertex3_x']\n",
    "bottom_left = result_google['boundingPoly_vertex4_x']"
   ]
  },
  {
   "cell_type": "code",
   "execution_count": null,
   "metadata": {},
   "outputs": [],
   "source": []
  }
 ],
 "metadata": {
  "kernelspec": {
   "display_name": "Python 3",
   "language": "python",
   "name": "python3"
  },
  "language_info": {
   "codemirror_mode": {
    "name": "ipython",
    "version": 3
   },
   "file_extension": ".py",
   "mimetype": "text/x-python",
   "name": "python",
   "nbconvert_exporter": "python",
   "pygments_lexer": "ipython3",
   "version": "3.7.3"
  }
 },
 "nbformat": 4,
 "nbformat_minor": 2
}
